{
 "cells": [
  {
   "cell_type": "code",
   "execution_count": 1,
   "id": "f3d09236",
   "metadata": {},
   "outputs": [],
   "source": [
    "import pandas as pd"
   ]
  },
  {
   "cell_type": "code",
   "execution_count": 2,
   "id": "eaa115ca",
   "metadata": {},
   "outputs": [],
   "source": [
    "# leer base de datos\n",
    "tablaEmpleados = pd.read_csv('./Siembras.csv')"
   ]
  },
  {
   "cell_type": "code",
   "execution_count": null,
   "id": "55534cc6",
   "metadata": {},
   "outputs": [],
   "source": []
  }
 ],
 "metadata": {
  "kernelspec": {
   "display_name": "Python 3 (ipykernel)",
   "language": "python",
   "name": "python3"
  },
  "language_info": {
   "codemirror_mode": {
    "name": "ipython",
    "version": 3
   },
   "file_extension": ".py",
   "mimetype": "text/x-python",
   "name": "python",
   "nbconvert_exporter": "python",
   "pygments_lexer": "ipython3",
   "version": "3.9.12"
  }
 },
 "nbformat": 4,
 "nbformat_minor": 5
}
